{
 "cells": [
  {
   "cell_type": "code",
   "execution_count": 1,
   "metadata": {},
   "outputs": [],
   "source": [
    "import random"
   ]
  },
  {
   "cell_type": "code",
   "execution_count": 9,
   "metadata": {},
   "outputs": [],
   "source": [
    "suits = ['Hearts', 'Diamonds','Spades', 'Clubs']\n",
    "ranks = ['One','Two','Three','Four','Five','Six','Seven','Eight','Nine','Ten','Jack','Queen','King','Ace']\n",
    "\n",
    "values = {'One':1,'Two':2, 'Three':3, 'Four':4,\n",
    "         'Five':5, 'Six':6, 'Seven':7, 'Eight':8,\n",
    "         'Nine':9, 'Ten':10, 'Jack':10,'Queen':10,\n",
    "         'King':10, 'Ace':11}"
   ]
  },
  {
   "cell_type": "code",
   "execution_count": 10,
   "metadata": {},
   "outputs": [],
   "source": [
    "class Card:\n",
    "    \n",
    "    def __init__(self,suits,ranks):\n",
    "        self.suits = suits\n",
    "        self.ranks = ranks\n",
    "        \n",
    "    def __str__(self):\n",
    "        return self.ranks + ' of ' + self.suits"
   ]
  },
  {
   "cell_type": "code",
   "execution_count": 13,
   "metadata": {},
   "outputs": [],
   "source": [
    "my_card = Card('Hearts','Two')"
   ]
  },
  {
   "cell_type": "code",
   "execution_count": 14,
   "metadata": {},
   "outputs": [
    {
     "name": "stdout",
     "output_type": "stream",
     "text": [
      "Two of Hearts\n"
     ]
    }
   ],
   "source": [
    "print(my_card)"
   ]
  },
  {
   "cell_type": "code",
   "execution_count": 62,
   "metadata": {},
   "outputs": [],
   "source": [
    "class Deck:\n",
    "    \n",
    "    def __init__(self):\n",
    "        self.deck = []\n",
    "        for suit in suits:\n",
    "            for rank in ranks:\n",
    "                self.deck.append(Card(suit,rank))\n",
    "                \n",
    "    def shuffle(self):\n",
    "        return random.shuffle(self.deck)\n",
    "                \n",
    "    def __str__(self):\n",
    "        deck = ''\n",
    "        for i in self.deck:\n",
    "            deck += str(i) + '\\n' \n",
    "        return deck\n",
    "    \n",
    "    def deal(self):\n",
    "        take_a_card = self.deck.pop()\n",
    "        return take_a_card"
   ]
  },
  {
   "cell_type": "code",
   "execution_count": 65,
   "metadata": {},
   "outputs": [],
   "source": [
    "my_deck = Deck()"
   ]
  },
  {
   "cell_type": "code",
   "execution_count": 66,
   "metadata": {},
   "outputs": [],
   "source": [
    "#print(my_deck)"
   ]
  },
  {
   "cell_type": "code",
   "execution_count": 222,
   "metadata": {},
   "outputs": [],
   "source": [
    "class Hand:\n",
    "    \n",
    "    def __init__(self):\n",
    "        self.value = 0\n",
    "        self.aces = 0\n",
    "        self.cards = []\n",
    "        \n",
    "    def add_card_values(self,card):\n",
    "        self.cards.append(card)\n",
    "        self.value += values[card.ranks]\n",
    "        \n",
    "        for i in self.cards:\n",
    "            if 'Ace' in str(i):\n",
    "                self.aces += 1\n",
    "            else:\n",
    "                self.aces = self.aces\n",
    "        \n",
    "    def __str__(self):\n",
    "        empty = ''\n",
    "        for i in self.cards:\n",
    "            empty += str(i) + '\\n'\n",
    "        return empty\n",
    "    \n",
    "    def arrange_aces(self):\n",
    "        while self.value > 21 and self.aces:\n",
    "            self.value = self.value - 10\n",
    "            self.aces = self.aces - 1"
   ]
  },
  {
   "cell_type": "code",
   "execution_count": 226,
   "metadata": {},
   "outputs": [],
   "source": [
    "test_deck = Deck()\n",
    "test_deck.shuffle()\n",
    "my_hand = Hand()\n",
    "my_hand.add_card_values(test_deck.deal())\n",
    "my_hand.add_card_values(test_deck.deal())\n",
    "my_hand.add_card_values(test_deck.deal())\n",
    "my_hand.arrange_aces()"
   ]
  },
  {
   "cell_type": "code",
   "execution_count": 227,
   "metadata": {},
   "outputs": [
    {
     "name": "stdout",
     "output_type": "stream",
     "text": [
      "Six of Clubs\n",
      "Queen of Hearts\n",
      "Four of Diamonds\n",
      "\n"
     ]
    }
   ],
   "source": [
    "print(my_hand)"
   ]
  },
  {
   "cell_type": "code",
   "execution_count": 228,
   "metadata": {},
   "outputs": [
    {
     "data": {
      "text/plain": [
       "20"
      ]
     },
     "execution_count": 228,
     "metadata": {},
     "output_type": "execute_result"
    }
   ],
   "source": [
    "my_hand.value"
   ]
  },
  {
   "cell_type": "code",
   "execution_count": 267,
   "metadata": {},
   "outputs": [],
   "source": [
    "class Chips:\n",
    "    \n",
    "    def __init__(self):\n",
    "        self.money = 100\n",
    "        self.bet = 0\n",
    "\n",
    "    def win(self):\n",
    "        self.money +=self.bet\n",
    "        \n",
    "    def lose(self):\n",
    "        self.money -=self.bet"
   ]
  },
  {
   "cell_type": "code",
   "execution_count": 268,
   "metadata": {},
   "outputs": [],
   "source": [
    "text = Chips()"
   ]
  },
  {
   "cell_type": "code",
   "execution_count": 270,
   "metadata": {},
   "outputs": [],
   "source": [
    "text.win()"
   ]
  },
  {
   "cell_type": "code",
   "execution_count": 271,
   "metadata": {},
   "outputs": [
    {
     "data": {
      "text/plain": [
       "100"
      ]
     },
     "execution_count": 271,
     "metadata": {},
     "output_type": "execute_result"
    }
   ],
   "source": [
    "text.money"
   ]
  },
  {
   "cell_type": "code",
   "execution_count": 275,
   "metadata": {},
   "outputs": [],
   "source": [
    "def take_a_bet(chips):\n",
    "    \n",
    "    try:\n",
    "        chips.bet = int(input('Please provide the amount you want to bet!: '))\n",
    "    except:\n",
    "        print('This is not a valid amount!')"
   ]
  },
  {
   "cell_type": "code",
   "execution_count": 276,
   "metadata": {},
   "outputs": [],
   "source": [
    "self = Chips()"
   ]
  },
  {
   "cell_type": "code",
   "execution_count": 277,
   "metadata": {},
   "outputs": [
    {
     "name": "stdout",
     "output_type": "stream",
     "text": [
      "Please provide the amount you want to bet!: 50\n"
     ]
    }
   ],
   "source": [
    "take_a_bet(self)"
   ]
  },
  {
   "cell_type": "code",
   "execution_count": 278,
   "metadata": {},
   "outputs": [
    {
     "data": {
      "text/plain": [
       "100"
      ]
     },
     "execution_count": 278,
     "metadata": {},
     "output_type": "execute_result"
    }
   ],
   "source": [
    "self.money"
   ]
  },
  {
   "cell_type": "code",
   "execution_count": 281,
   "metadata": {},
   "outputs": [
    {
     "data": {
      "text/plain": [
       "200"
      ]
     },
     "execution_count": 281,
     "metadata": {},
     "output_type": "execute_result"
    }
   ],
   "source": [
    "self.win()\n",
    "self.money"
   ]
  },
  {
   "cell_type": "code",
   "execution_count": null,
   "metadata": {},
   "outputs": [],
   "source": []
  }
 ],
 "metadata": {
  "kernelspec": {
   "display_name": "Python 3",
   "language": "python",
   "name": "python3"
  },
  "language_info": {
   "codemirror_mode": {
    "name": "ipython",
    "version": 3
   },
   "file_extension": ".py",
   "mimetype": "text/x-python",
   "name": "python",
   "nbconvert_exporter": "python",
   "pygments_lexer": "ipython3",
   "version": "3.6.5"
  }
 },
 "nbformat": 4,
 "nbformat_minor": 2
}
